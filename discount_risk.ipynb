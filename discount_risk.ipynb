{
 "cells": [
  {
   "cell_type": "code",
   "execution_count": null,
   "metadata": {},
   "outputs": [],
   "source": [
    "import pandas as pd\n",
    "import numpy as np\n",
    "import matplotlib.pyplot as plt\n",
    "import yfinance as yf\n",
    "import talib\n",
    "import seaborn as sns\n",
    "import pickle\n",
    "\n",
    "%matplotlib inline\n",
    "plt.style.use('dark_background')"
   ]
  },
  {
   "cell_type": "code",
   "execution_count": 18,
   "metadata": {},
   "outputs": [],
   "source": [
    "def get_unique_symbs(df):\n",
    "    unique_symbs = set()\n",
    "    for i in list(df.columns):\n",
    "        unique_symbs.add(i[0])\n",
    "    return unique_symbs"
   ]
  },
  {
   "cell_type": "code",
   "execution_count": 8,
   "metadata": {},
   "outputs": [
    {
     "name": "stdout",
     "output_type": "stream",
     "text": [
      "3558 5296 8854 8244\n"
     ]
    }
   ],
   "source": [
    "\"\"\"Read tickers from official site\"\"\"\n",
    "nasdaq_listed = pd.read_csv('data/nasdaqlisted.txt', delimiter=\"|\")\n",
    "other_listed = pd.read_csv('data/otherlisted.txt', delimiter=\"|\")\n",
    "all_symbols = set(other_listed['Symbol']).union(set(nasdaq_listed['Symbol']))\n",
    "all_symbols_cleaned = set()\n",
    "\n",
    "for tick in all_symbols:\n",
    "    if not \"$\" in tick and not \".\" in tick:\n",
    "        all_symbols_cleaned.add(tick)\n",
    "\n",
    "print(len(nasdaq_listed), len(other_listed), len(all_symbols), len(all_symbols_cleaned))"
   ]
  },
  {
   "cell_type": "code",
   "execution_count": 13,
   "metadata": {},
   "outputs": [
    {
     "name": "stdout",
     "output_type": "stream",
     "text": [
      "2148\n"
     ]
    }
   ],
   "source": [
    "\"\"\"Getting tickers with no NaN and high volume\"\"\"\n",
    "tickers_names_aux = \" \".join(all_symbols_cleaned)\n",
    "hist_downloaded_aux = yf.download(tickers_names_aux, period=\"1mo\", interval=\"1d\", start=None, end=None, actions=False, rounding=True, group_by='ticker', threads=True)\n",
    "\n",
    "tickers_volM= set()\n",
    "hist_downloaded_aux = hist_downloaded_aux.dropna(axis=1, how='all')\n",
    "for tick in get_unique_symbs(hist_downloaded_aux):\n",
    "    if hist_downloaded_aux[tick,'Volume'].mean() > 1000000: #High volume\n",
    "        tickers_volM.add(tick)\n",
    "print(len(tickers_volM))\n",
    "\n",
    "with open('data/all_symbols_vol.pickle', 'wb') as handle:\n",
    "    pickle.dump(tickers_volM, handle)\n"
   ]
  },
  {
   "cell_type": "code",
   "execution_count": 14,
   "metadata": {},
   "outputs": [
    {
     "name": "stdout",
     "output_type": "stream",
     "text": [
      "[*********************100%***********************]  2148 of 2148 completed\n",
      "\n",
      "8 Failed downloads:\n",
      "- WPM: No data found for this date range, symbol may be delisted\n",
      "- BORR: No data found, symbol may be delisted\n",
      "- STX: No data found for this date range, symbol may be delisted\n",
      "- FNDF: No data found for this date range, symbol may be delisted\n",
      "- SBAC: No data found for this date range, symbol may be delisted\n",
      "- VIAC: No data found, symbol may be delisted\n",
      "- SBSW: No data found, symbol may be delisted\n",
      "- HIO: No data found for this date range, symbol may be delisted\n"
     ]
    }
   ],
   "source": [
    "\"\"\"Get my data\"\"\"\n",
    "with open('data/all_symbols_vol.pickle', 'rb') as handle:\n",
    "    all_symbols_vol = pickle.load(handle)\n",
    "\n",
    "tickers_names = \" \".join(all_symbols_vol)\n",
    "hist_downloaded = yf.download(tickers_names, period=\"3mo\", interval=\"1d\", start=None, end=None, actions=False, rounding=True, group_by='ticker', threads=True)\n",
    "hist_downloaded.to_pickle('data/all3mo.pickle')"
   ]
  },
  {
   "cell_type": "code",
   "execution_count": 20,
   "metadata": {},
   "outputs": [
    {
     "name": "stdout",
     "output_type": "stream",
     "text": [
      "12888\n",
      "12840\n",
      "CPU times: user 4.41 s, sys: 78.1 ms, total: 4.48 s\n",
      "Wall time: 4.5 s\n"
     ]
    }
   ],
   "source": [
    "%%time\n",
    "\"\"\"Read my data\"\"\"\n",
    "hist = pd.read_pickle('data/all3mo.pickle')\n",
    "print(len(hist.columns))\n",
    "hist = hist.dropna(axis=1, how='all')\n",
    "print(len(hist.columns))"
   ]
  },
  {
   "cell_type": "code",
   "execution_count": 25,
   "metadata": {},
   "outputs": [
    {
     "name": "stdout",
     "output_type": "stream",
     "text": [
      "11.03305785123967 0.9093632958801499 ICD\n",
      "9.861904761904762 0.8985997102848865 AGS\n",
      "26.472222222222225 0.9622245540398742 BRZU\n",
      "8.9671875 0.8884823139919847 CEQP\n",
      "12.601214574898785 0.9206425702811245 CDEV\n",
      "9.442815249266863 0.8940993788819875 GNPX\n",
      "11.934701492537311 0.9162107237767704 SSL\n",
      "8.198888888888888 0.8780322536929123 GPMT\n",
      "18.448943661971832 0.9457963546139898 REML\n",
      "8.5 0.8823529411764707 TOPS\n",
      "13.145494830132941 0.9239283105792461 NAIL\n",
      "12.929104477611942 0.9226551226551227 TYG\n",
      "22.487198795180724 0.9555302548303922 JNUG\n",
      "9.74079754601227 0.8973390017320106 MITT\n",
      "10.839285714285714 0.9077429983525535 QEP\n",
      "10.135674381484439 0.9013385826771654 GFL\n",
      "10.183962264150944 0.9018063918480778 KOS\n",
      "10.101449275362318 0.9010043041606886 TELL\n",
      "10.3625 0.9034981905910736 CEN\n",
      "11.48820754716981 0.9129542188462327 XAN\n",
      "55.21449704142013 0.9818888144675151 GUSH\n",
      "8.183531746031747 0.8778033701054674 TRTX\n",
      "10.564424635332253 0.9053426916733786 DFEN\n",
      "9.019931662870158 0.8891344150514553 LK\n",
      "11.914583333333333 0.9160692428746284 MTDR\n",
      "18.568584070796465 0.9461455975217443 PVAC\n",
      "8.44186046511628 0.8815426997245178 VET\n",
      "8.808774834437086 0.8864768348839395 APY\n",
      "9.539308176100628 0.8951705950222515 UCO\n",
      "12.488235294117647 0.9199246349505418 MIST\n",
      "8.030796161825727 0.8754793447810959 TVIX\n",
      "21.79861111111111 0.95412551768079 MFA\n",
      "9.90234375 0.8990138067061144 GCI\n",
      "8.542910447761193 0.8829438742083424 TVTY\n",
      "8.086753731343283 0.876340985119391 DCP\n",
      "8.665 0.8845931909982689 HLX\n",
      "10.222222222222221 0.9021739130434783 PRTY\n",
      "9.405030800821356 0.8936739260957371 PLAY\n",
      "13.253048780487806 0.9245456636760985 CEM\n",
      "16.15234375 0.9380894800483676 NTG\n",
      "21.7375 0.9539965497412306 ERX\n",
      "8.575704225352112 0.8833915007185382 ERI\n",
      "8.983009708737864 0.8886787354768982 SM\n",
      "9.18632075471698 0.8911424903722721 CODX\n",
      "10.390972222222222 0.9037626144489741 CHEF\n",
      "11.371527777777779 0.9120610687022901 EMO\n"
     ]
    }
   ],
   "source": [
    "hist = pd.read_pickle('data/all3mo.pickle')\n",
    "for tick in get_unique_symbs(hist):\n",
    "    describe = hist[tick,'Close'].describe()\n",
    "    discount = (describe['75%']/describe['min'])\n",
    "    discount_norm = (describe['75%']-describe['min'])/describe['75%']\n",
    "    if discount > 8:\n",
    "        print(discount, discount_norm, tick)"
   ]
  },
  {
   "cell_type": "code",
   "execution_count": 29,
   "metadata": {},
   "outputs": [
    {
     "data": {
      "text/plain": [
       "8852732.258064516"
      ]
     },
     "execution_count": 29,
     "metadata": {},
     "output_type": "execute_result"
    }
   ],
   "source": [
    "hist['CVE','Volume'].mean()"
   ]
  }
 ],
 "metadata": {
  "kernelspec": {
   "display_name": "Python 3",
   "language": "python",
   "name": "python3"
  },
  "language_info": {
   "codemirror_mode": {
    "name": "ipython",
    "version": 3
   },
   "file_extension": ".py",
   "mimetype": "text/x-python",
   "name": "python",
   "nbconvert_exporter": "python",
   "pygments_lexer": "ipython3",
   "version": "3.6.9"
  }
 },
 "nbformat": 4,
 "nbformat_minor": 4
}
